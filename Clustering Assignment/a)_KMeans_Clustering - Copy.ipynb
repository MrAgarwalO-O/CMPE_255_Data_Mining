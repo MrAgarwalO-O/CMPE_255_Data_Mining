{
  "nbformat": 4,
  "nbformat_minor": 0,
  "metadata": {
    "colab": {
      "provenance": []
    },
    "kernelspec": {
      "name": "python3",
      "display_name": "Python 3"
    },
    "language_info": {
      "name": "python"
    }
  },
  "cells": [
    {
      "cell_type": "markdown",
      "source": [
        "**SETUP**"
      ],
      "metadata": {
        "id": "liGz95VaoSuc"
      }
    },
    {
      "cell_type": "code",
      "execution_count": 3,
      "metadata": {
        "colab": {
          "base_uri": "https://localhost:8080/"
        },
        "id": "TEgNCE9smVNm",
        "outputId": "e37d3721-5429-4180-e236-db261b57e578"
      },
      "outputs": [
        {
          "output_type": "stream",
          "name": "stdout",
          "text": [
            "Requirement already satisfied: matplotlib in /usr/local/lib/python3.10/dist-packages (3.7.1)\n",
            "Requirement already satisfied: contourpy>=1.0.1 in /usr/local/lib/python3.10/dist-packages (from matplotlib) (1.2.0)\n",
            "Requirement already satisfied: cycler>=0.10 in /usr/local/lib/python3.10/dist-packages (from matplotlib) (0.12.1)\n",
            "Requirement already satisfied: fonttools>=4.22.0 in /usr/local/lib/python3.10/dist-packages (from matplotlib) (4.44.3)\n",
            "Requirement already satisfied: kiwisolver>=1.0.1 in /usr/local/lib/python3.10/dist-packages (from matplotlib) (1.4.5)\n",
            "Requirement already satisfied: numpy>=1.20 in /usr/local/lib/python3.10/dist-packages (from matplotlib) (1.23.5)\n",
            "Requirement already satisfied: packaging>=20.0 in /usr/local/lib/python3.10/dist-packages (from matplotlib) (23.2)\n",
            "Requirement already satisfied: pillow>=6.2.0 in /usr/local/lib/python3.10/dist-packages (from matplotlib) (9.4.0)\n",
            "Requirement already satisfied: pyparsing>=2.3.1 in /usr/local/lib/python3.10/dist-packages (from matplotlib) (3.1.1)\n",
            "Requirement already satisfied: python-dateutil>=2.7 in /usr/local/lib/python3.10/dist-packages (from matplotlib) (2.8.2)\n",
            "Requirement already satisfied: six>=1.5 in /usr/local/lib/python3.10/dist-packages (from python-dateutil>=2.7->matplotlib) (1.16.0)\n",
            "Requirement already satisfied: seaborn in /usr/local/lib/python3.10/dist-packages (0.12.2)\n",
            "Requirement already satisfied: numpy!=1.24.0,>=1.17 in /usr/local/lib/python3.10/dist-packages (from seaborn) (1.23.5)\n",
            "Requirement already satisfied: pandas>=0.25 in /usr/local/lib/python3.10/dist-packages (from seaborn) (1.5.3)\n",
            "Requirement already satisfied: matplotlib!=3.6.1,>=3.1 in /usr/local/lib/python3.10/dist-packages (from seaborn) (3.7.1)\n",
            "Requirement already satisfied: contourpy>=1.0.1 in /usr/local/lib/python3.10/dist-packages (from matplotlib!=3.6.1,>=3.1->seaborn) (1.2.0)\n",
            "Requirement already satisfied: cycler>=0.10 in /usr/local/lib/python3.10/dist-packages (from matplotlib!=3.6.1,>=3.1->seaborn) (0.12.1)\n",
            "Requirement already satisfied: fonttools>=4.22.0 in /usr/local/lib/python3.10/dist-packages (from matplotlib!=3.6.1,>=3.1->seaborn) (4.44.3)\n",
            "Requirement already satisfied: kiwisolver>=1.0.1 in /usr/local/lib/python3.10/dist-packages (from matplotlib!=3.6.1,>=3.1->seaborn) (1.4.5)\n",
            "Requirement already satisfied: packaging>=20.0 in /usr/local/lib/python3.10/dist-packages (from matplotlib!=3.6.1,>=3.1->seaborn) (23.2)\n",
            "Requirement already satisfied: pillow>=6.2.0 in /usr/local/lib/python3.10/dist-packages (from matplotlib!=3.6.1,>=3.1->seaborn) (9.4.0)\n",
            "Requirement already satisfied: pyparsing>=2.3.1 in /usr/local/lib/python3.10/dist-packages (from matplotlib!=3.6.1,>=3.1->seaborn) (3.1.1)\n",
            "Requirement already satisfied: python-dateutil>=2.7 in /usr/local/lib/python3.10/dist-packages (from matplotlib!=3.6.1,>=3.1->seaborn) (2.8.2)\n",
            "Requirement already satisfied: pytz>=2020.1 in /usr/local/lib/python3.10/dist-packages (from pandas>=0.25->seaborn) (2023.3.post1)\n",
            "Requirement already satisfied: six>=1.5 in /usr/local/lib/python3.10/dist-packages (from python-dateutil>=2.7->matplotlib!=3.6.1,>=3.1->seaborn) (1.16.0)\n"
          ]
        }
      ],
      "source": [
        "!pip install matplotlib\n",
        "!pip install seaborn"
      ]
    },
    {
      "cell_type": "code",
      "source": [
        "from sklearn.cluster import KMeans\n",
        "import pandas as pd\n",
        "from sklearn.preprocessing import MinMaxScaler\n",
        "from matplotlib import pyplot as plt\n",
        "import numpy as np"
      ],
      "metadata": {
        "id": "bC5Sgin2oL5c"
      },
      "execution_count": 2,
      "outputs": []
    },
    {
      "cell_type": "code",
      "source": [
        "import matplotlib.pyplot as plt\n",
        "from sklearn.preprocessing import StandardScaler"
      ],
      "metadata": {
        "id": "HOtytZ9eoYrD"
      },
      "execution_count": 4,
      "outputs": []
    },
    {
      "cell_type": "markdown",
      "source": [
        "**Loadiing the Dataset**"
      ],
      "metadata": {
        "id": "BkWPm1UwqYOx"
      }
    },
    {
      "cell_type": "code",
      "source": [
        "url = '/content/articles_data.csv'\n",
        "data = pd.read_csv(url)\n",
        "\n",
        "data.head()"
      ],
      "metadata": {
        "colab": {
          "base_uri": "https://localhost:8080/",
          "height": 573
        },
        "id": "-hwxVhpkqdT_",
        "outputId": "a02a62d0-677c-4c87-90c3-b62cd578e39c"
      },
      "execution_count": 6,
      "outputs": [
        {
          "output_type": "execute_result",
          "data": {
            "text/plain": [
              "   Unnamed: 0           source_id         source_name              author  \\\n",
              "0           0             reuters             Reuters   Reuters Editorial   \n",
              "1           1     the-irish-times     The Irish Times  Eoin Burke-Kennedy   \n",
              "2           2     the-irish-times     The Irish Times   Deirdre McQuillan   \n",
              "3           3  al-jazeera-english  Al Jazeera English          Al Jazeera   \n",
              "4           4            bbc-news            BBC News            BBC News   \n",
              "\n",
              "                                               title  \\\n",
              "0  NTSB says Autopilot engaged in 2018 California...   \n",
              "1       Unemployment falls to post-crash low of 5.2%   \n",
              "2  Louise Kennedy AW2019: Long coats, sparkling t...   \n",
              "3  North Korean footballer Han joins Italian gian...   \n",
              "4  UK government lawyer says proroguing parliamen...   \n",
              "\n",
              "                                         description  \\\n",
              "0  The National Transportation Safety Board said ...   \n",
              "1  Latest monthly figures reflect continued growt...   \n",
              "2  Autumn-winter collection features designer’s g...   \n",
              "3  Han is the first North Korean player in the Se...   \n",
              "4  The UK government's lawyer, David Johnston arg...   \n",
              "\n",
              "                                                 url  \\\n",
              "0  https://www.reuters.com/article/us-tesla-crash...   \n",
              "1  https://www.irishtimes.com/business/economy/un...   \n",
              "2  https://www.irishtimes.com/\\t\\t\\t\\t\\t\\t\\t/life...   \n",
              "3  https://www.aljazeera.com/news/2019/09/north-k...   \n",
              "4  https://www.bbc.co.uk/news/av/uk-scotland-4956...   \n",
              "\n",
              "                                        url_to_image          published_at  \\\n",
              "0  https://s4.reutersmedia.net/resources/r/?m=02&...  2019-09-03T16:22:20Z   \n",
              "1  https://www.irishtimes.com/image-creator/?id=1...  2019-09-03T10:32:28Z   \n",
              "2  https://www.irishtimes.com/image-creator/?id=1...  2019-09-03T14:40:00Z   \n",
              "3  https://www.aljazeera.com/mritems/Images/2019/...  2019-09-03T17:25:39Z   \n",
              "4  https://ichef.bbci.co.uk/news/1024/branded_new...  2019-09-03T14:39:21Z   \n",
              "\n",
              "                                             content  top_article  \\\n",
              "0  WASHINGTON (Reuters) - The National Transporta...          0.0   \n",
              "1  The States jobless rate fell to 5.2 per cent l...          0.0   \n",
              "2  Louise Kennedy is showing off her autumn-winte...          1.0   \n",
              "3  Han Kwang Song, the first North Korean footbal...          0.0   \n",
              "4                                                NaN          0.0   \n",
              "\n",
              "   engagement_reaction_count  engagement_comment_count  \\\n",
              "0                        0.0                       0.0   \n",
              "1                        6.0                      10.0   \n",
              "2                        NaN                       NaN   \n",
              "3                        0.0                       0.0   \n",
              "4                        0.0                       0.0   \n",
              "\n",
              "   engagement_share_count  engagement_comment_plugin_count  \n",
              "0                  2528.0                              0.0  \n",
              "1                     2.0                              0.0  \n",
              "2                     NaN                              NaN  \n",
              "3                     7.0                              0.0  \n",
              "4                     0.0                              0.0  "
            ],
            "text/html": [
              "\n",
              "  <div id=\"df-b0c29262-6603-4de3-acdf-aa1939a5874c\" class=\"colab-df-container\">\n",
              "    <div>\n",
              "<style scoped>\n",
              "    .dataframe tbody tr th:only-of-type {\n",
              "        vertical-align: middle;\n",
              "    }\n",
              "\n",
              "    .dataframe tbody tr th {\n",
              "        vertical-align: top;\n",
              "    }\n",
              "\n",
              "    .dataframe thead th {\n",
              "        text-align: right;\n",
              "    }\n",
              "</style>\n",
              "<table border=\"1\" class=\"dataframe\">\n",
              "  <thead>\n",
              "    <tr style=\"text-align: right;\">\n",
              "      <th></th>\n",
              "      <th>Unnamed: 0</th>\n",
              "      <th>source_id</th>\n",
              "      <th>source_name</th>\n",
              "      <th>author</th>\n",
              "      <th>title</th>\n",
              "      <th>description</th>\n",
              "      <th>url</th>\n",
              "      <th>url_to_image</th>\n",
              "      <th>published_at</th>\n",
              "      <th>content</th>\n",
              "      <th>top_article</th>\n",
              "      <th>engagement_reaction_count</th>\n",
              "      <th>engagement_comment_count</th>\n",
              "      <th>engagement_share_count</th>\n",
              "      <th>engagement_comment_plugin_count</th>\n",
              "    </tr>\n",
              "  </thead>\n",
              "  <tbody>\n",
              "    <tr>\n",
              "      <th>0</th>\n",
              "      <td>0</td>\n",
              "      <td>reuters</td>\n",
              "      <td>Reuters</td>\n",
              "      <td>Reuters Editorial</td>\n",
              "      <td>NTSB says Autopilot engaged in 2018 California...</td>\n",
              "      <td>The National Transportation Safety Board said ...</td>\n",
              "      <td>https://www.reuters.com/article/us-tesla-crash...</td>\n",
              "      <td>https://s4.reutersmedia.net/resources/r/?m=02&amp;...</td>\n",
              "      <td>2019-09-03T16:22:20Z</td>\n",
              "      <td>WASHINGTON (Reuters) - The National Transporta...</td>\n",
              "      <td>0.0</td>\n",
              "      <td>0.0</td>\n",
              "      <td>0.0</td>\n",
              "      <td>2528.0</td>\n",
              "      <td>0.0</td>\n",
              "    </tr>\n",
              "    <tr>\n",
              "      <th>1</th>\n",
              "      <td>1</td>\n",
              "      <td>the-irish-times</td>\n",
              "      <td>The Irish Times</td>\n",
              "      <td>Eoin Burke-Kennedy</td>\n",
              "      <td>Unemployment falls to post-crash low of 5.2%</td>\n",
              "      <td>Latest monthly figures reflect continued growt...</td>\n",
              "      <td>https://www.irishtimes.com/business/economy/un...</td>\n",
              "      <td>https://www.irishtimes.com/image-creator/?id=1...</td>\n",
              "      <td>2019-09-03T10:32:28Z</td>\n",
              "      <td>The States jobless rate fell to 5.2 per cent l...</td>\n",
              "      <td>0.0</td>\n",
              "      <td>6.0</td>\n",
              "      <td>10.0</td>\n",
              "      <td>2.0</td>\n",
              "      <td>0.0</td>\n",
              "    </tr>\n",
              "    <tr>\n",
              "      <th>2</th>\n",
              "      <td>2</td>\n",
              "      <td>the-irish-times</td>\n",
              "      <td>The Irish Times</td>\n",
              "      <td>Deirdre McQuillan</td>\n",
              "      <td>Louise Kennedy AW2019: Long coats, sparkling t...</td>\n",
              "      <td>Autumn-winter collection features designer’s g...</td>\n",
              "      <td>https://www.irishtimes.com/\\t\\t\\t\\t\\t\\t\\t/life...</td>\n",
              "      <td>https://www.irishtimes.com/image-creator/?id=1...</td>\n",
              "      <td>2019-09-03T14:40:00Z</td>\n",
              "      <td>Louise Kennedy is showing off her autumn-winte...</td>\n",
              "      <td>1.0</td>\n",
              "      <td>NaN</td>\n",
              "      <td>NaN</td>\n",
              "      <td>NaN</td>\n",
              "      <td>NaN</td>\n",
              "    </tr>\n",
              "    <tr>\n",
              "      <th>3</th>\n",
              "      <td>3</td>\n",
              "      <td>al-jazeera-english</td>\n",
              "      <td>Al Jazeera English</td>\n",
              "      <td>Al Jazeera</td>\n",
              "      <td>North Korean footballer Han joins Italian gian...</td>\n",
              "      <td>Han is the first North Korean player in the Se...</td>\n",
              "      <td>https://www.aljazeera.com/news/2019/09/north-k...</td>\n",
              "      <td>https://www.aljazeera.com/mritems/Images/2019/...</td>\n",
              "      <td>2019-09-03T17:25:39Z</td>\n",
              "      <td>Han Kwang Song, the first North Korean footbal...</td>\n",
              "      <td>0.0</td>\n",
              "      <td>0.0</td>\n",
              "      <td>0.0</td>\n",
              "      <td>7.0</td>\n",
              "      <td>0.0</td>\n",
              "    </tr>\n",
              "    <tr>\n",
              "      <th>4</th>\n",
              "      <td>4</td>\n",
              "      <td>bbc-news</td>\n",
              "      <td>BBC News</td>\n",
              "      <td>BBC News</td>\n",
              "      <td>UK government lawyer says proroguing parliamen...</td>\n",
              "      <td>The UK government's lawyer, David Johnston arg...</td>\n",
              "      <td>https://www.bbc.co.uk/news/av/uk-scotland-4956...</td>\n",
              "      <td>https://ichef.bbci.co.uk/news/1024/branded_new...</td>\n",
              "      <td>2019-09-03T14:39:21Z</td>\n",
              "      <td>NaN</td>\n",
              "      <td>0.0</td>\n",
              "      <td>0.0</td>\n",
              "      <td>0.0</td>\n",
              "      <td>0.0</td>\n",
              "      <td>0.0</td>\n",
              "    </tr>\n",
              "  </tbody>\n",
              "</table>\n",
              "</div>\n",
              "    <div class=\"colab-df-buttons\">\n",
              "\n",
              "  <div class=\"colab-df-container\">\n",
              "    <button class=\"colab-df-convert\" onclick=\"convertToInteractive('df-b0c29262-6603-4de3-acdf-aa1939a5874c')\"\n",
              "            title=\"Convert this dataframe to an interactive table.\"\n",
              "            style=\"display:none;\">\n",
              "\n",
              "  <svg xmlns=\"http://www.w3.org/2000/svg\" height=\"24px\" viewBox=\"0 -960 960 960\">\n",
              "    <path d=\"M120-120v-720h720v720H120Zm60-500h600v-160H180v160Zm220 220h160v-160H400v160Zm0 220h160v-160H400v160ZM180-400h160v-160H180v160Zm440 0h160v-160H620v160ZM180-180h160v-160H180v160Zm440 0h160v-160H620v160Z\"/>\n",
              "  </svg>\n",
              "    </button>\n",
              "\n",
              "  <style>\n",
              "    .colab-df-container {\n",
              "      display:flex;\n",
              "      gap: 12px;\n",
              "    }\n",
              "\n",
              "    .colab-df-convert {\n",
              "      background-color: #E8F0FE;\n",
              "      border: none;\n",
              "      border-radius: 50%;\n",
              "      cursor: pointer;\n",
              "      display: none;\n",
              "      fill: #1967D2;\n",
              "      height: 32px;\n",
              "      padding: 0 0 0 0;\n",
              "      width: 32px;\n",
              "    }\n",
              "\n",
              "    .colab-df-convert:hover {\n",
              "      background-color: #E2EBFA;\n",
              "      box-shadow: 0px 1px 2px rgba(60, 64, 67, 0.3), 0px 1px 3px 1px rgba(60, 64, 67, 0.15);\n",
              "      fill: #174EA6;\n",
              "    }\n",
              "\n",
              "    .colab-df-buttons div {\n",
              "      margin-bottom: 4px;\n",
              "    }\n",
              "\n",
              "    [theme=dark] .colab-df-convert {\n",
              "      background-color: #3B4455;\n",
              "      fill: #D2E3FC;\n",
              "    }\n",
              "\n",
              "    [theme=dark] .colab-df-convert:hover {\n",
              "      background-color: #434B5C;\n",
              "      box-shadow: 0px 1px 3px 1px rgba(0, 0, 0, 0.15);\n",
              "      filter: drop-shadow(0px 1px 2px rgba(0, 0, 0, 0.3));\n",
              "      fill: #FFFFFF;\n",
              "    }\n",
              "  </style>\n",
              "\n",
              "    <script>\n",
              "      const buttonEl =\n",
              "        document.querySelector('#df-b0c29262-6603-4de3-acdf-aa1939a5874c button.colab-df-convert');\n",
              "      buttonEl.style.display =\n",
              "        google.colab.kernel.accessAllowed ? 'block' : 'none';\n",
              "\n",
              "      async function convertToInteractive(key) {\n",
              "        const element = document.querySelector('#df-b0c29262-6603-4de3-acdf-aa1939a5874c');\n",
              "        const dataTable =\n",
              "          await google.colab.kernel.invokeFunction('convertToInteractive',\n",
              "                                                    [key], {});\n",
              "        if (!dataTable) return;\n",
              "\n",
              "        const docLinkHtml = 'Like what you see? Visit the ' +\n",
              "          '<a target=\"_blank\" href=https://colab.research.google.com/notebooks/data_table.ipynb>data table notebook</a>'\n",
              "          + ' to learn more about interactive tables.';\n",
              "        element.innerHTML = '';\n",
              "        dataTable['output_type'] = 'display_data';\n",
              "        await google.colab.output.renderOutput(dataTable, element);\n",
              "        const docLink = document.createElement('div');\n",
              "        docLink.innerHTML = docLinkHtml;\n",
              "        element.appendChild(docLink);\n",
              "      }\n",
              "    </script>\n",
              "  </div>\n",
              "\n",
              "\n",
              "<div id=\"df-ad82e3cf-479e-408e-8b49-88065613bb89\">\n",
              "  <button class=\"colab-df-quickchart\" onclick=\"quickchart('df-ad82e3cf-479e-408e-8b49-88065613bb89')\"\n",
              "            title=\"Suggest charts\"\n",
              "            style=\"display:none;\">\n",
              "\n",
              "<svg xmlns=\"http://www.w3.org/2000/svg\" height=\"24px\"viewBox=\"0 0 24 24\"\n",
              "     width=\"24px\">\n",
              "    <g>\n",
              "        <path d=\"M19 3H5c-1.1 0-2 .9-2 2v14c0 1.1.9 2 2 2h14c1.1 0 2-.9 2-2V5c0-1.1-.9-2-2-2zM9 17H7v-7h2v7zm4 0h-2V7h2v10zm4 0h-2v-4h2v4z\"/>\n",
              "    </g>\n",
              "</svg>\n",
              "  </button>\n",
              "\n",
              "<style>\n",
              "  .colab-df-quickchart {\n",
              "      --bg-color: #E8F0FE;\n",
              "      --fill-color: #1967D2;\n",
              "      --hover-bg-color: #E2EBFA;\n",
              "      --hover-fill-color: #174EA6;\n",
              "      --disabled-fill-color: #AAA;\n",
              "      --disabled-bg-color: #DDD;\n",
              "  }\n",
              "\n",
              "  [theme=dark] .colab-df-quickchart {\n",
              "      --bg-color: #3B4455;\n",
              "      --fill-color: #D2E3FC;\n",
              "      --hover-bg-color: #434B5C;\n",
              "      --hover-fill-color: #FFFFFF;\n",
              "      --disabled-bg-color: #3B4455;\n",
              "      --disabled-fill-color: #666;\n",
              "  }\n",
              "\n",
              "  .colab-df-quickchart {\n",
              "    background-color: var(--bg-color);\n",
              "    border: none;\n",
              "    border-radius: 50%;\n",
              "    cursor: pointer;\n",
              "    display: none;\n",
              "    fill: var(--fill-color);\n",
              "    height: 32px;\n",
              "    padding: 0;\n",
              "    width: 32px;\n",
              "  }\n",
              "\n",
              "  .colab-df-quickchart:hover {\n",
              "    background-color: var(--hover-bg-color);\n",
              "    box-shadow: 0 1px 2px rgba(60, 64, 67, 0.3), 0 1px 3px 1px rgba(60, 64, 67, 0.15);\n",
              "    fill: var(--button-hover-fill-color);\n",
              "  }\n",
              "\n",
              "  .colab-df-quickchart-complete:disabled,\n",
              "  .colab-df-quickchart-complete:disabled:hover {\n",
              "    background-color: var(--disabled-bg-color);\n",
              "    fill: var(--disabled-fill-color);\n",
              "    box-shadow: none;\n",
              "  }\n",
              "\n",
              "  .colab-df-spinner {\n",
              "    border: 2px solid var(--fill-color);\n",
              "    border-color: transparent;\n",
              "    border-bottom-color: var(--fill-color);\n",
              "    animation:\n",
              "      spin 1s steps(1) infinite;\n",
              "  }\n",
              "\n",
              "  @keyframes spin {\n",
              "    0% {\n",
              "      border-color: transparent;\n",
              "      border-bottom-color: var(--fill-color);\n",
              "      border-left-color: var(--fill-color);\n",
              "    }\n",
              "    20% {\n",
              "      border-color: transparent;\n",
              "      border-left-color: var(--fill-color);\n",
              "      border-top-color: var(--fill-color);\n",
              "    }\n",
              "    30% {\n",
              "      border-color: transparent;\n",
              "      border-left-color: var(--fill-color);\n",
              "      border-top-color: var(--fill-color);\n",
              "      border-right-color: var(--fill-color);\n",
              "    }\n",
              "    40% {\n",
              "      border-color: transparent;\n",
              "      border-right-color: var(--fill-color);\n",
              "      border-top-color: var(--fill-color);\n",
              "    }\n",
              "    60% {\n",
              "      border-color: transparent;\n",
              "      border-right-color: var(--fill-color);\n",
              "    }\n",
              "    80% {\n",
              "      border-color: transparent;\n",
              "      border-right-color: var(--fill-color);\n",
              "      border-bottom-color: var(--fill-color);\n",
              "    }\n",
              "    90% {\n",
              "      border-color: transparent;\n",
              "      border-bottom-color: var(--fill-color);\n",
              "    }\n",
              "  }\n",
              "</style>\n",
              "\n",
              "  <script>\n",
              "    async function quickchart(key) {\n",
              "      const quickchartButtonEl =\n",
              "        document.querySelector('#' + key + ' button');\n",
              "      quickchartButtonEl.disabled = true;  // To prevent multiple clicks.\n",
              "      quickchartButtonEl.classList.add('colab-df-spinner');\n",
              "      try {\n",
              "        const charts = await google.colab.kernel.invokeFunction(\n",
              "            'suggestCharts', [key], {});\n",
              "      } catch (error) {\n",
              "        console.error('Error during call to suggestCharts:', error);\n",
              "      }\n",
              "      quickchartButtonEl.classList.remove('colab-df-spinner');\n",
              "      quickchartButtonEl.classList.add('colab-df-quickchart-complete');\n",
              "    }\n",
              "    (() => {\n",
              "      let quickchartButtonEl =\n",
              "        document.querySelector('#df-ad82e3cf-479e-408e-8b49-88065613bb89 button');\n",
              "      quickchartButtonEl.style.display =\n",
              "        google.colab.kernel.accessAllowed ? 'block' : 'none';\n",
              "    })();\n",
              "  </script>\n",
              "</div>\n",
              "    </div>\n",
              "  </div>\n"
            ]
          },
          "metadata": {},
          "execution_count": 6
        }
      ]
    },
    {
      "cell_type": "markdown",
      "source": [
        "**Data Handling**"
      ],
      "metadata": {
        "id": "1pFJrvNdsygN"
      }
    },
    {
      "cell_type": "code",
      "source": [
        "# Selecting relevant features\n",
        "features = data[['engagement_reaction_count', 'engagement_comment_count', 'engagement_share_count']]\n",
        "features.fillna(0, inplace=True)  # Handling missing values\n",
        "data.fillna(0, inplace=True)"
      ],
      "metadata": {
        "colab": {
          "base_uri": "https://localhost:8080/"
        },
        "id": "_7VFUxDfsxP3",
        "outputId": "f5f6df37-ba37-4fde-c6fa-5ba77dc84ca1"
      },
      "execution_count": 16,
      "outputs": [
        {
          "output_type": "stream",
          "name": "stderr",
          "text": [
            "<ipython-input-16-6b85c1bbfa96>:3: SettingWithCopyWarning: \n",
            "A value is trying to be set on a copy of a slice from a DataFrame\n",
            "\n",
            "See the caveats in the documentation: https://pandas.pydata.org/pandas-docs/stable/user_guide/indexing.html#returning-a-view-versus-a-copy\n",
            "  features.fillna(0, inplace=True)  # Handling missing values\n"
          ]
        }
      ]
    },
    {
      "cell_type": "markdown",
      "source": [
        "**Standardize Features**"
      ],
      "metadata": {
        "id": "gmVJ14zBtC_6"
      }
    },
    {
      "cell_type": "code",
      "source": [
        "# Standardizing the features\n",
        "scaler = StandardScaler()\n",
        "features_scaled = scaler.fit_transform(features)"
      ],
      "metadata": {
        "id": "hwGhmxlrtCde"
      },
      "execution_count": 17,
      "outputs": []
    },
    {
      "cell_type": "markdown",
      "source": [
        "**K-Means Clustering Function**"
      ],
      "metadata": {
        "id": "3lYGKfJXqRbq"
      }
    },
    {
      "cell_type": "code",
      "source": [
        "def k_means_clustering(data, k, max_iterations=100):\n",
        "    np.random.seed(42)  # For reproducibility\n",
        "    centroids = data[np.random.choice(data.shape[0], k, replace=False)]\n",
        "\n",
        "    for i in range(max_iterations):\n",
        "        # Assign clusters\n",
        "        distances = np.sqrt(((data - centroids[:, np.newaxis])**2).sum(axis=2))\n",
        "        closest_cluster = np.argmin(distances, axis=0)\n",
        "\n",
        "        # Update centroids\n",
        "        new_centroids = np.array([data[closest_cluster == k].mean(axis=0) for k in range(centroids.shape[0])])\n",
        "\n",
        "        # Check for convergence\n",
        "        if np.all(centroids == new_centroids):\n",
        "            break\n",
        "        centroids = new_centroids\n",
        "\n",
        "    return centroids, closest_cluster"
      ],
      "metadata": {
        "id": "_8_j6D_1qSaa"
      },
      "execution_count": 19,
      "outputs": []
    },
    {
      "cell_type": "markdown",
      "source": [
        "**Elbow Plot**"
      ],
      "metadata": {
        "id": "rYS1tgTzshTj"
      }
    },
    {
      "cell_type": "code",
      "source": [
        "sse = []\n",
        "k_rng = range(1,10)\n",
        "for k in k_rng:\n",
        "    km = KMeans(n_clusters=k)\n",
        "    km.fit(data[['engagement_reaction_count', 'engagement_comment_count', 'engagement_share_count']])\n",
        "    sse.append(km.inertia_)"
      ],
      "metadata": {
        "colab": {
          "base_uri": "https://localhost:8080/"
        },
        "id": "pWyd_x0bsjVF",
        "outputId": "e9b64809-aa45-436d-e5a9-63bf88ce2cc6"
      },
      "execution_count": 20,
      "outputs": [
        {
          "output_type": "stream",
          "name": "stderr",
          "text": [
            "/usr/local/lib/python3.10/dist-packages/sklearn/cluster/_kmeans.py:870: FutureWarning: The default value of `n_init` will change from 10 to 'auto' in 1.4. Set the value of `n_init` explicitly to suppress the warning\n",
            "  warnings.warn(\n",
            "/usr/local/lib/python3.10/dist-packages/sklearn/cluster/_kmeans.py:870: FutureWarning: The default value of `n_init` will change from 10 to 'auto' in 1.4. Set the value of `n_init` explicitly to suppress the warning\n",
            "  warnings.warn(\n",
            "/usr/local/lib/python3.10/dist-packages/sklearn/cluster/_kmeans.py:870: FutureWarning: The default value of `n_init` will change from 10 to 'auto' in 1.4. Set the value of `n_init` explicitly to suppress the warning\n",
            "  warnings.warn(\n",
            "/usr/local/lib/python3.10/dist-packages/sklearn/cluster/_kmeans.py:870: FutureWarning: The default value of `n_init` will change from 10 to 'auto' in 1.4. Set the value of `n_init` explicitly to suppress the warning\n",
            "  warnings.warn(\n",
            "/usr/local/lib/python3.10/dist-packages/sklearn/cluster/_kmeans.py:870: FutureWarning: The default value of `n_init` will change from 10 to 'auto' in 1.4. Set the value of `n_init` explicitly to suppress the warning\n",
            "  warnings.warn(\n",
            "/usr/local/lib/python3.10/dist-packages/sklearn/cluster/_kmeans.py:870: FutureWarning: The default value of `n_init` will change from 10 to 'auto' in 1.4. Set the value of `n_init` explicitly to suppress the warning\n",
            "  warnings.warn(\n",
            "/usr/local/lib/python3.10/dist-packages/sklearn/cluster/_kmeans.py:870: FutureWarning: The default value of `n_init` will change from 10 to 'auto' in 1.4. Set the value of `n_init` explicitly to suppress the warning\n",
            "  warnings.warn(\n",
            "/usr/local/lib/python3.10/dist-packages/sklearn/cluster/_kmeans.py:870: FutureWarning: The default value of `n_init` will change from 10 to 'auto' in 1.4. Set the value of `n_init` explicitly to suppress the warning\n",
            "  warnings.warn(\n",
            "/usr/local/lib/python3.10/dist-packages/sklearn/cluster/_kmeans.py:870: FutureWarning: The default value of `n_init` will change from 10 to 'auto' in 1.4. Set the value of `n_init` explicitly to suppress the warning\n",
            "  warnings.warn(\n"
          ]
        }
      ]
    },
    {
      "cell_type": "code",
      "source": [
        "plt.xlabel('K')\n",
        "plt.ylabel('Sum of squared error')\n",
        "plt.plot(k_rng,sse)"
      ],
      "metadata": {
        "colab": {
          "base_uri": "https://localhost:8080/",
          "height": 482
        },
        "id": "MjjYG7yWt6wL",
        "outputId": "f009b9e6-04c6-44d1-885d-d777b0077ad0"
      },
      "execution_count": 21,
      "outputs": [
        {
          "output_type": "execute_result",
          "data": {
            "text/plain": [
              "[<matplotlib.lines.Line2D at 0x7ebc1b424550>]"
            ]
          },
          "metadata": {},
          "execution_count": 21
        },
        {
          "output_type": "display_data",
          "data": {
            "text/plain": [
              "<Figure size 640x480 with 1 Axes>"
            ],
            "image/png": "[encoded data removed]"
          },
          "metadata": {}
        }
      ]
    },
    {
      "cell_type": "markdown",
      "source": [
        "**Applying K-means Clustering**"
      ],
      "metadata": {
        "id": "wIZXV6Vzt-wq"
      }
    },
    {
      "cell_type": "code",
      "source": [
        "# Applying K-means clustering\n",
        "k = 3  # Number of clusters\n",
        "centroids, clusters = k_means_clustering(features_scaled, k)"
      ],
      "metadata": {
        "id": "XkoG-8IDuAjm"
      },
      "execution_count": 22,
      "outputs": []
    },
    {
      "cell_type": "markdown",
      "source": [
        "**Data Visualizations**"
      ],
      "metadata": {
        "id": "OosJmMf7uFs_"
      }
    },
    {
      "cell_type": "code",
      "source": [
        "# Plotting (if desired and applicable)\n",
        "plt.figure(figsize=(8, 6))\n",
        "plt.scatter(features_scaled[:, 0], features_scaled[:, 1], c=clusters, cmap='viridis', marker='o')\n",
        "plt.scatter(centroids[:, 0], centroids[:, 1], c='red', marker='x')  # Centroids\n",
        "plt.title('K-means Clustering')\n",
        "plt.xlabel('Scaled Number of Reactions')\n",
        "plt.ylabel('Scaled Number of Comments')\n",
        "plt.show()"
      ],
      "metadata": {
        "colab": {
          "base_uri": "https://localhost:8080/",
          "height": 564
        },
        "id": "PP-EECxCuGYW",
        "outputId": "1ab0be9e-bced-400a-ad52-bf73fa13d661"
      },
      "execution_count": 23,
      "outputs": [
        {
          "output_type": "display_data",
          "data": {
            "text/plain": [
              "<Figure size 800x600 with 1 Axes>"
            ],
            "image/png": "[encoded data removed]"
          },
          "metadata": {}
        }
      ]
    }
  ]
}