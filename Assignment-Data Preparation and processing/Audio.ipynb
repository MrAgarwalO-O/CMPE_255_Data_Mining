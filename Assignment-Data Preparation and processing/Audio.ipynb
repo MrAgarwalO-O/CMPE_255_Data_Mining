{
  "nbformat": 4,
  "nbformat_minor": 0,
  "metadata": {
    "colab": {
      "provenance": []
    },
    "kernelspec": {
      "name": "python3",
      "display_name": "Python 3"
    },
    "language_info": {
      "name": "python"
    }
  },
  "cells": [
    {
      "cell_type": "code",
      "execution_count": 1,
      "metadata": {
        "id": "uV4QYSg4LiAs"
      },
      "outputs": [],
      "source": [
        "import numpy as np\n",
        "import pandas as pd\n",
        "import matplotlib.pyplot as plt\n",
        "from matplotlib.colors import ListedColormap\n",
        "%matplotlib inline\n",
        "import seaborn as sns\n",
        "import plotly.graph_objects as go\n",
        "from sklearn.decomposition import PCA\n",
        "from sklearn.metrics import confusion_matrix, classification_report,accuracy_score, f1_score\n",
        "from sklearn.model_selection import train_test_split,StratifiedKFold, GridSearchCV\n",
        "from sklearn.ensemble import RandomForestClassifier, AdaBoostClassifier,VotingClassifier\n",
        "from sklearn import preprocessing\n",
        "import joblib\n",
        "import librosa\n",
        "import librosa.display\n",
        "from IPython.display import Audio\n",
        "import tensorflow as tf\n",
        "import time\n",
        "import os\n",
        "import random"
      ]
    },
    {
      "cell_type": "code",
      "source": [
        "url='/content/music-genre-classification/Data'\n",
        "df = pd.read_csv(f'{url}/features_3_sec.csv')"
      ],
      "metadata": {
        "id": "Tmg2pR2QL5Nv"
      },
      "execution_count": null,
      "outputs": []
    },
    {
      "cell_type": "code",
      "source": [
        "df.head(10)"
      ],
      "metadata": {
        "id": "mHlkIOsMMAQn"
      },
      "execution_count": null,
      "outputs": []
    },
    {
      "cell_type": "markdown",
      "source": [
        "# **Visualization**"
      ],
      "metadata": {
        "id": "hPQXjAFSNRt7"
      }
    },
    {
      "cell_type": "code",
      "source": [
        "genres=df['label'].unique()\n",
        "print(genres)\n",
        "visualize_audio_path = {}\n",
        "for genre in genres:\n",
        "    audio_files = [file for file in os.listdir(f'{url}/genres_original/{genre}') if file.endswith('.wav')]\n",
        "    visualize_audio_path[genre] = audio_files\n",
        "\n",
        "print(visualize_audio_path)\n",
        "random_audio_selection = {}\n",
        "for genre, files in visualize_audio_path.items():\n",
        "    random_audio = random.choice(files)\n",
        "    random_audio_selection[genre] = random_audio\n",
        "\n",
        "random_audio_selection\n",
        "audios={}\n",
        "sample_rates={}\n",
        "for audio in random_audio_selection.keys():\n",
        "    audio_path=f'{url}/genres_original/{audio}/{random_audio_selection[audio]}'\n",
        "    data,sr=librosa.load(audio_path,sr=45600)\n",
        "    audios[audio]=data\n",
        "    sample_rates[f'{audio}:sr']=sr\n",
        "for audio in audios.keys():\n",
        "    plt.figure(figsize=(12,4))\n",
        "    plt.title(f'Waveplot for {audio} music genre sample',size=15)\n",
        "    librosa.display.waveshow(audios[audio],color=colors[audio])\n",
        "    print('\\n')\n",
        "    plt.show()"
      ],
      "metadata": {
        "id": "3NEbxRIlMCbd"
      },
      "execution_count": null,
      "outputs": []
    },
    {
      "cell_type": "markdown",
      "source": [
        "# **Training**"
      ],
      "metadata": {
        "id": "vfaEWQxsNHI1"
      }
    },
    {
      "cell_type": "code",
      "source": [
        "import pandas as pd\n",
        "\n",
        "data_path = '/content/music-genre-classification/Data/features_3_sec.csv'\n",
        "data = pd.read_csv(data_path)\n",
        "\n",
        "data.head()"
      ],
      "metadata": {
        "id": "NNGN4oyLMunv"
      },
      "execution_count": null,
      "outputs": []
    },
    {
      "cell_type": "code",
      "source": [
        "from sklearn.model_selection import train_test_split\n",
        "from sklearn.preprocessing import LabelEncoder, StandardScaler\n",
        "\n",
        "# Podział danych na cechy i etykiety\n",
        "X = data.drop(['filename', 'label'], axis=1)\n",
        "y = data['label']\n",
        "\n",
        "# Kodowanie etykiet\n",
        "encoder = LabelEncoder()\n",
        "y = encoder.fit_transform(y)\n",
        "\n",
        "# Normalizacja cech\n",
        "scaler = StandardScaler()\n",
        "X = scaler.fit_transform(X)\n",
        "\n",
        "# Podział na zbiór treningowy i testowy\n",
        "X_train, X_test, y_train, y_test = train_test_split(X, y, test_size=0.2, random_state=42)\n",
        "\n",
        "X_train.shape, X_test.shape, y_train.shape, y_test.shape"
      ],
      "metadata": {
        "id": "8olc0UWSM3_m"
      },
      "execution_count": null,
      "outputs": []
    },
    {
      "cell_type": "markdown",
      "source": [
        "# **Random forest**"
      ],
      "metadata": {
        "id": "uvMpRwFgNBFn"
      }
    },
    {
      "cell_type": "code",
      "source": [
        "from sklearn.ensemble import RandomForestClassifier\n",
        "\n",
        "# Tworzenie modelu Random Forest\n",
        "rf = RandomForestClassifier(n_estimators=100, random_state=42)\n",
        "\n",
        "# Trenowanie modelu\n",
        "rf.fit(X_train, y_train)\n",
        "\n",
        "# Predykcja na zbiorze testowym\n",
        "y_pred_rf = rf.predict(X_test)\n",
        "\n",
        "# Ocena modelu\n",
        "report_rf = classification_report(y_test, y_pred_rf, target_names=encoder.classes_)"
      ],
      "metadata": {
        "id": "o1SITvymM8mP"
      },
      "execution_count": null,
      "outputs": []
    },
    {
      "cell_type": "code",
      "source": [
        "print(report_rf)"
      ],
      "metadata": {
        "id": "rOMRADksM-bA"
      },
      "execution_count": null,
      "outputs": []
    }
  ]
}